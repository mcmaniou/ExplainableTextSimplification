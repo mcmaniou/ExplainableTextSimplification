{
  "cells": [
    {
      "cell_type": "markdown",
      "metadata": {},
      "source": [
        "### Import necessary packages and modules"
      ]
    },
    {
      "cell_type": "code",
      "execution_count": null,
      "metadata": {
        "id": "OXVwSCBcJbEg"
      },
      "outputs": [],
      "source": [
        "import pandas as pd\n",
        "import numpy as np\n",
        "import matplotlib.pyplot as plt\n",
        "import seaborn as sns"
      ]
    },
    {
      "cell_type": "markdown",
      "metadata": {},
      "source": [
        "### Set input folder path\n",
        "The path must contain csv files with the results"
      ]
    },
    {
      "cell_type": "code",
      "execution_count": null,
      "metadata": {
        "id": "qcA2EXlFIV6i"
      },
      "outputs": [],
      "source": [
        "folder_path=\"./gdrive/MyDrive/thesis_data/results_last\""
      ]
    },
    {
      "cell_type": "markdown",
      "metadata": {},
      "source": [
        "### Calculate changes in class and probability, as well as, the masking attempts needed."
      ]
    },
    {
      "cell_type": "code",
      "execution_count": null,
      "metadata": {
        "id": "hmUlnef-Im3Q"
      },
      "outputs": [],
      "source": [
        "from os import listdir\n",
        "from os.path import isfile, join\n",
        "onlyfiles = [f for f in listdir(folder_path) if isfile(join(folder_path, f))]\n",
        "sorted_onlyfiles = sorted(onlyfiles)"
      ]
    },
    {
      "cell_type": "code",
      "execution_count": null,
      "metadata": {
        "colab": {
          "base_uri": "https://localhost:8080/",
          "height": 243
        },
        "id": "XHV2YQqrJMxd",
        "outputId": "3288efef-e8c9-4b00-9449-0deb86a296ae"
      },
      "outputs": [],
      "source": [
        "for one_file in sorted_onlyfiles:\n",
        "\n",
        "  path = folder_path + \"/\" + one_file\n",
        "  df = pd.read_csv(path, index_col=0)\n",
        "  one_file = one_file.replace(\".csv\", \"\")\n",
        "  print(one_file)\n",
        "  avg_old = df[\"old_prob\"].mean()\n",
        "  avg_new = df[\"new_prob\"].mean()\n",
        "  avg_n = df[\"n\"].mean()\n",
        "  perc_change =  (df[df[\"new_class\"] == 1].shape[0]) / df.shape[0]\n",
        "  print(f\"Average old complex probability: {avg_old}\")\n",
        "  print(f\"Average new complex probability: {avg_new}\")\n",
        "  print(f\"Average n: {avg_n}\")\n",
        "  print(f\"Percentage of class change: {perc_change}\")\n",
        "  print(\"\")\n",
        "\n",
        "  sns.set(font_scale=1.5)\n",
        "  sns.set_style(\"white\")\n",
        "\n",
        "  sns.histplot(data=df[\"old_prob\"], color=\"red\", label=\"initial probability\", kde=True, bins = 1)\n",
        "  hist = sns.histplot(data=df[\"new_prob\"], label=\"after masking\", kde=True, binwidth=0.05)\n",
        "  hist.set_xlabel(\"Probability distributions\")\n",
        "  hist.set_ylim(0, df.shape[0])\n",
        "\n",
        "  plt.legend()\n",
        "  plt.tight_layout()\n",
        "  # image = one_file + \".png\"\n",
        "  # plt.savefig(image)\n",
        "  plt.show()\n",
        "  plt.clf()"
      ]
    }
  ],
  "metadata": {
    "colab": {
      "provenance": []
    },
    "kernelspec": {
      "display_name": "Python 3",
      "name": "python3"
    },
    "language_info": {
      "name": "python"
    }
  },
  "nbformat": 4,
  "nbformat_minor": 0
}
