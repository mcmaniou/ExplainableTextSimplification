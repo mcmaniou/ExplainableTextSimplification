{
 "cells": [
  {
   "cell_type": "code",
   "execution_count": 1,
   "id": "5093e4eb",
   "metadata": {},
   "outputs": [],
   "source": [
    "#!pip install textstat"
   ]
  },
  {
   "cell_type": "markdown",
   "id": "a33c4363",
   "metadata": {},
   "source": [
    "## Import necessary packages and modules"
   ]
  },
  {
   "cell_type": "code",
   "execution_count": 1,
   "id": "ed0b69e6",
   "metadata": {},
   "outputs": [],
   "source": [
    "import pandas as pd\n",
    "from os import listdir\n",
    "import textstat\n",
    "from sklearn.model_selection import train_test_split"
   ]
  },
  {
   "cell_type": "markdown",
   "id": "0ef5064c",
   "metadata": {},
   "source": [
    "## Calculate readability metrics\n",
    "We calculate the following:\n",
    "1. Flesch Kincaid Grade\n",
    "2. Flesch Reading Ease\n",
    "3. Gunning Fox\n",
    "4. SMOG Index "
   ]
  },
  {
   "cell_type": "markdown",
   "id": "710c3176",
   "metadata": {},
   "source": [
    "### Experiments results"
   ]
  },
  {
   "cell_type": "code",
   "execution_count": 6,
   "id": "c9773a57",
   "metadata": {},
   "outputs": [],
   "source": [
    "files = listdir(\".\")\n",
    "files = [f for f in files if f.endswith(\".csv\")]"
   ]
  },
  {
   "cell_type": "code",
   "execution_count": 8,
   "id": "cca9a3e0",
   "metadata": {},
   "outputs": [],
   "source": [
    "import warnings\n",
    "warnings.filterwarnings(\"ignore\")"
   ]
  },
  {
   "cell_type": "code",
   "execution_count": 9,
   "id": "b70f43e9",
   "metadata": {},
   "outputs": [
    {
     "name": "stdout",
     "output_type": "stream",
     "text": [
      "New\n",
      "bert_par.csv\n",
      "Average Flesh Kincaid Grade: 13.86463878326996\n",
      "Average Flesh Reading Ease: 30.51912547528517\n",
      "Average Gunning Fog: 16.410950570342205\n",
      "Average Smog Index: 0.25741444866920155\n",
      "\n",
      "bert_sent.csv\n",
      "Average Flesh Kincaid Grade: 13.86463878326996\n",
      "Average Flesh Reading Ease: 30.51912547528517\n",
      "Average Gunning Fog: 16.410950570342205\n",
      "Average Smog Index: 0.25741444866920155\n",
      "\n",
      "dist_sent.csv\n",
      "Average Flesh Kincaid Grade: 12.89134199134199\n",
      "Average Flesh Reading Ease: 37.77632034632035\n",
      "Average Gunning Fog: 15.403939393939394\n",
      "Average Smog Index: 0.17445887445887445\n",
      "\n"
     ]
    }
   ],
   "source": [
    "col = \"New\"\n",
    "print(col)\n",
    "for f in files:\n",
    "    df = pd.read_csv(f, index_col = 0)\n",
    "    df.reset_index(inplace=True, drop=True)\n",
    "    df[\"Flesh_Kincaid_Grade\"] = 0\n",
    "    df[\"Flesh_Reading_Ease\"] = 0\n",
    "    df[\"Gunning_Fog\"] = 0\n",
    "    df[\"Smog_Index\"] = 0\n",
    "    for i in range(df.shape[0]):\n",
    "        df[\"Flesh_Kincaid_Grade\"][i] = textstat.flesch_kincaid_grade(df[col][i])\n",
    "        df[\"Flesh_Reading_Ease\"][i] = textstat.flesch_reading_ease(df[col][i])\n",
    "        df[\"Gunning_Fog\"][i] = textstat.gunning_fog(df[col][i])\n",
    "        df[\"Smog_Index\"][i] = textstat.smog_index(df[col][i])\n",
    "#     fp = \"metrics/pol_readmet_\"+f\n",
    "#     df.to_csv(fp)\n",
    "    print(f\"{f}\")\n",
    "    print(f\"Average Flesh Kincaid Grade: {df['Flesh_Kincaid_Grade'].mean()}\")\n",
    "    print(f\"Average Flesh Reading Ease: {df['Flesh_Reading_Ease'].mean()}\")\n",
    "    print(f\"Average Gunning Fog: {df['Gunning_Fog'].mean()}\")\n",
    "    print(f\"Average Smog Index: {df['Smog_Index'].mean()}\")\n",
    "    print(\"\")\n",
    "    \n",
    "        "
   ]
  },
  {
   "cell_type": "markdown",
   "id": "751939f7",
   "metadata": {},
   "source": [
    "### Original data"
   ]
  },
  {
   "cell_type": "markdown",
   "id": "17e2d4f0",
   "metadata": {},
   "source": [
    "#### Paragraph data"
   ]
  },
  {
   "cell_type": "code",
   "execution_count": 43,
   "id": "69ad2ab5",
   "metadata": {},
   "outputs": [],
   "source": [
    "df=pd.read_csv(\"../../dist_par_all/nature_paragraph_data.csv\")\n",
    "X_all = df['TEXT'].values\n",
    "y_all = df['CATEGORY'].values\n",
    "\n",
    "X_train, X_test, y_train, y_test = train_test_split(X_all, y_all, test_size=0.3, random_state=42, stratify=y_all)"
   ]
  },
  {
   "cell_type": "markdown",
   "id": "76d51ddb",
   "metadata": {},
   "source": [
    "##### Complex data"
   ]
  },
  {
   "cell_type": "code",
   "execution_count": 44,
   "id": "21019d87",
   "metadata": {},
   "outputs": [
    {
     "name": "stdout",
     "output_type": "stream",
     "text": [
      "Average Flesh Kincaid Grade: 31.462577777777778\n",
      "Average Flesh Reading Ease: 13.887111111111112\n",
      "Average Gunning Fog: 14.949288888888889\n",
      "Average Smog Index: 15.375111111111114\n",
      "\n"
     ]
    }
   ],
   "source": [
    "scient_test = X_test[y_test == 0]\n",
    "results_list = []\n",
    "for i in scient_test:\n",
    "    try:\n",
    "        results_list.append([i, \n",
    "                             textstat.flesch_reading_ease(i), \n",
    "                             textstat.flesch_kincaid_grade(i),\n",
    "                             textstat.gunning_fog(i),\n",
    "                             textstat.smog_index(i)])\n",
    "    except:\n",
    "        continue;\n",
    " \n",
    "df = pd.DataFrame(results_list, \n",
    "                  columns=['Original', 'Flesh_Kincaid_Grade', 'Flesh_Reading_Ease', 'Gunning_Fog', 'Smog_Index'])\n",
    "df.to_csv(\"scient_par_readability.csv\")\n",
    "\n",
    "print(f\"Average Flesh Kincaid Grade: {df['Flesh_Kincaid_Grade'].mean()}\")\n",
    "print(f\"Average Flesh Reading Ease: {df['Flesh_Reading_Ease'].mean()}\")\n",
    "print(f\"Average Gunning Fog: {df['Gunning_Fog'].mean()}\")\n",
    "print(f\"Average Smog Index: {df['Smog_Index'].mean()}\")\n",
    "print(\"\")"
   ]
  },
  {
   "cell_type": "markdown",
   "id": "e042c9b0",
   "metadata": {},
   "source": [
    "##### Plain data"
   ]
  },
  {
   "cell_type": "code",
   "execution_count": 45,
   "id": "de41f911",
   "metadata": {},
   "outputs": [
    {
     "name": "stdout",
     "output_type": "stream",
     "text": [
      "Average Flesh Kincaid Grade: 48.23083333333333\n",
      "Average Flesh Reading Ease: 11.464492753623187\n",
      "Average Gunning Fog: 12.282789855072464\n",
      "Average Smog Index: 13.251811594202898\n",
      "\n"
     ]
    }
   ],
   "source": [
    "plain_test = X_test[y_test == 1]\n",
    "results_list = []\n",
    "for i in plain_test:\n",
    "    try:\n",
    "        results_list.append([i, \n",
    "                             textstat.flesch_reading_ease(i), \n",
    "                             textstat.flesch_kincaid_grade(i),\n",
    "                             textstat.gunning_fog(i),\n",
    "                             textstat.smog_index(i)])\n",
    "    except:\n",
    "        continue;\n",
    " \n",
    "df = pd.DataFrame(results_list, \n",
    "                  columns=['Original', 'Flesh_Kincaid_Grade', 'Flesh_Reading_Ease', 'Gunning_Fog', 'Smog_Index'])\n",
    "df.to_csv(\"plain_par_readability.csv\")\n",
    "\n",
    "print(f\"Average Flesh Kincaid Grade: {df['Flesh_Kincaid_Grade'].mean()}\")\n",
    "print(f\"Average Flesh Reading Ease: {df['Flesh_Reading_Ease'].mean()}\")\n",
    "print(f\"Average Gunning Fog: {df['Gunning_Fog'].mean()}\")\n",
    "print(f\"Average Smog Index: {df['Smog_Index'].mean()}\")\n",
    "print(\"\")"
   ]
  },
  {
   "cell_type": "markdown",
   "id": "adb7fbfb",
   "metadata": {},
   "source": [
    "#### Sentence data"
   ]
  },
  {
   "cell_type": "code",
   "execution_count": 46,
   "id": "51e0f55e",
   "metadata": {},
   "outputs": [],
   "source": [
    "df=pd.read_csv(\"../../bert_sent_all/nature_sentences_data.csv\")\n",
    "X_all = df['TEXT'].values\n",
    "y_all = df['CATEGORY'].values\n",
    "\n",
    "X_train, X_test, y_train, y_test = train_test_split(X_all, y_all, test_size=0.3, random_state=42, stratify=y_all)"
   ]
  },
  {
   "cell_type": "markdown",
   "id": "9adeff55",
   "metadata": {},
   "source": [
    "##### Complex data"
   ]
  },
  {
   "cell_type": "code",
   "execution_count": 47,
   "id": "4fb6897b",
   "metadata": {},
   "outputs": [
    {
     "name": "stdout",
     "output_type": "stream",
     "text": [
      "Average Flesh Kincaid Grade: 30.68188869412796\n",
      "Average Flesh Reading Ease: 14.108545135845748\n",
      "Average Gunning Fog: 16.999176161262053\n",
      "Average Smog Index: 0.4113935144609991\n",
      "\n"
     ]
    }
   ],
   "source": [
    "scient_test = X_test[y_test == 0]\n",
    "results_list = []\n",
    "for i in scient_test:\n",
    "    try:\n",
    "        results_list.append([i, \n",
    "                             textstat.flesch_reading_ease(i), \n",
    "                             textstat.flesch_kincaid_grade(i),\n",
    "                             textstat.gunning_fog(i),\n",
    "                             textstat.smog_index(i)])\n",
    "    except:\n",
    "        continue;\n",
    " \n",
    "df = pd.DataFrame(results_list, \n",
    "                  columns=['Original', 'Flesh_Kincaid_Grade', 'Flesh_Reading_Ease', 'Gunning_Fog', 'Smog_Index'])\n",
    "df.to_csv(\"scient_sent_readability.csv\")\n",
    "\n",
    "print(f\"Average Flesh Kincaid Grade: {df['Flesh_Kincaid_Grade'].mean()}\")\n",
    "print(f\"Average Flesh Reading Ease: {df['Flesh_Reading_Ease'].mean()}\")\n",
    "print(f\"Average Gunning Fog: {df['Gunning_Fog'].mean()}\")\n",
    "print(f\"Average Smog Index: {df['Smog_Index'].mean()}\")\n",
    "print(\"\")"
   ]
  },
  {
   "cell_type": "markdown",
   "id": "6dbbcb76",
   "metadata": {},
   "source": [
    "##### Plain data"
   ]
  },
  {
   "cell_type": "code",
   "execution_count": 48,
   "id": "be251944",
   "metadata": {},
   "outputs": [
    {
     "name": "stdout",
     "output_type": "stream",
     "text": [
      "Average Flesh Kincaid Grade: 47.02201425356339\n",
      "Average Flesh Reading Ease: 11.74482370592648\n",
      "Average Gunning Fog: 14.076211552888223\n",
      "Average Smog Index: 0.40948987246811697\n",
      "\n"
     ]
    }
   ],
   "source": [
    "plain_test = X_test[y_test == 1]\n",
    "results_list = []\n",
    "for i in plain_test:\n",
    "    try:\n",
    "        results_list.append([i, \n",
    "                             textstat.flesch_reading_ease(i), \n",
    "                             textstat.flesch_kincaid_grade(i),\n",
    "                             textstat.gunning_fog(i),\n",
    "                             textstat.smog_index(i)])\n",
    "    except:\n",
    "        continue;\n",
    " \n",
    "df = pd.DataFrame(results_list, \n",
    "                  columns=['Original', 'Flesh_Kincaid_Grade', 'Flesh_Reading_Ease', 'Gunning_Fog', 'Smog_Index'])\n",
    "df.to_csv(\"plain_sent_readability.csv\")\n",
    "\n",
    "print(f\"Average Flesh Kincaid Grade: {df['Flesh_Kincaid_Grade'].mean()}\")\n",
    "print(f\"Average Flesh Reading Ease: {df['Flesh_Reading_Ease'].mean()}\")\n",
    "print(f\"Average Gunning Fog: {df['Gunning_Fog'].mean()}\")\n",
    "print(f\"Average Smog Index: {df['Smog_Index'].mean()}\")\n",
    "print(\"\")"
   ]
  }
 ],
 "metadata": {
  "kernelspec": {
   "display_name": "Python 3 (ipykernel)",
   "language": "python",
   "name": "python3"
  },
  "language_info": {
   "codemirror_mode": {
    "name": "ipython",
    "version": 3
   },
   "file_extension": ".py",
   "mimetype": "text/x-python",
   "name": "python",
   "nbconvert_exporter": "python",
   "pygments_lexer": "ipython3",
   "version": "3.8.10"
  }
 },
 "nbformat": 4,
 "nbformat_minor": 5
}
