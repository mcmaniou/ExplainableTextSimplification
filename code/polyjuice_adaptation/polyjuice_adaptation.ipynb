{
  "cells": [
    {
      "cell_type": "markdown",
      "metadata": {},
      "source": [
        "## Clone the repo, fix a bug and install the polyjuice package\n",
        "### It is necessary, as you will need to solve a bug, according to [this](https://github.com/tongshuangwu/polyjuice/issues/12) issue."
      ]
    },
    {
      "cell_type": "code",
      "execution_count": null,
      "metadata": {
        "colab": {
          "base_uri": "https://localhost:8080/"
        },
        "id": "hwzIf8gMa-GV",
        "outputId": "cc6000ec-9479-4411-dd66-443dd025f32a"
      },
      "outputs": [],
      "source": [
        "!git clone https://github.com/tongshuangwu/polyjuice.git"
      ]
    },
    {
      "cell_type": "code",
      "execution_count": null,
      "metadata": {
        "colab": {
          "base_uri": "https://localhost:8080/"
        },
        "id": "n-FhMTISdQm0",
        "outputId": "8ac4156d-b932-4b22-ffad-2ce7d4fe9046"
      },
      "outputs": [],
      "source": [
        "%cd polyjuice"
      ]
    },
    {
      "cell_type": "code",
      "execution_count": null,
      "metadata": {
        "colab": {
          "base_uri": "https://localhost:8080/"
        },
        "id": "X8JCbHS1bph7",
        "outputId": "fe71686a-b39a-4fe6-ab67-70787e7e0537"
      },
      "outputs": [],
      "source": [
        "!pip install -e /content/polyjuice/"
      ]
    },
    {
      "cell_type": "markdown",
      "metadata": {
        "id": "uP6FLPKNLGtG"
      },
      "source": [
        "## Set up polyjuice with default GPT-2 model"
      ]
    },
    {
      "cell_type": "code",
      "execution_count": null,
      "metadata": {
        "id": "XPMEcX_VcFtd"
      },
      "outputs": [],
      "source": [
        "import sys\n",
        "sys.path.append('/content/polyjuice/polyjuice')"
      ]
    },
    {
      "cell_type": "code",
      "execution_count": null,
      "metadata": {
        "id": "SDVqlZIqb-7R"
      },
      "outputs": [],
      "source": [
        "from polyjuice import Polyjuice\n",
        "pj = Polyjuice(model_path=\"uw-hai/polyjuice\", is_cuda=True)"
      ]
    },
    {
      "cell_type": "markdown",
      "metadata": {
        "id": "T-ZlZzJrd2m-"
      },
      "source": [
        "## Our Adaptation"
      ]
    },
    {
      "cell_type": "markdown",
      "metadata": {},
      "source": [
        "### Install IG package"
      ]
    },
    {
      "cell_type": "code",
      "execution_count": null,
      "metadata": {
        "colab": {
          "base_uri": "https://localhost:8080/"
        },
        "id": "HP-SHkZkioHX",
        "outputId": "2325ba9e-c77c-4bfd-f439-7d4702653c88"
      },
      "outputs": [],
      "source": [
        "!pip install transformers-interpret"
      ]
    },
    {
      "cell_type": "markdown",
      "metadata": {},
      "source": [
        "### Connect to Google Drive"
      ]
    },
    {
      "cell_type": "code",
      "execution_count": null,
      "metadata": {
        "colab": {
          "base_uri": "https://localhost:8080/"
        },
        "id": "Oh0z6qVEeUKu",
        "outputId": "9d056c4c-6726-4041-82c4-c9ee819b427e"
      },
      "outputs": [],
      "source": [
        "from google.colab import drive\n",
        "drive.mount('/content/gdrive', force_remount=True)"
      ]
    },
    {
      "cell_type": "markdown",
      "metadata": {},
      "source": [
        "### Import necessary modules and packages\n",
        "### Set up variables"
      ]
    },
    {
      "cell_type": "code",
      "execution_count": null,
      "metadata": {
        "id": "gUOhk6nbPqCr"
      },
      "outputs": [],
      "source": [
        "import locale\n",
        "locale.getpreferredencoding = lambda: \"UTF-8\""
      ]
    },
    {
      "cell_type": "code",
      "execution_count": null,
      "metadata": {
        "colab": {
          "base_uri": "https://localhost:8080/",
          "height": 307,
          "referenced_widgets": [
            "0a5ea01fb8b64a5d9a3c5814fc93caa0",
            "c3b0d2f9f9ab4ddd86a036db3d8d7a53",
            "b2923d144daa4dadae403059f4382512",
            "3659a0fed9f0466b9004d5c881bd3f10",
            "71c61731430b44d787f9e776f42c02c2",
            "b71269ef026a4cab94f1347197025849",
            "98458e8de59445e789b839ca07cea6c0",
            "41fede9d32fb4ac6bfa0ef99acf96d11",
            "2d1531d484554617a9aa62d024c120d4",
            "c483334e3b114db0b1e4356bc1ddb556",
            "4e2175beea2b4aba8077b5db7b8d7d85",
            "32e3368d0e8d44929635e96abb801fbc",
            "4d29f97c7f1b4936ab1580aa683eb89e",
            "9b07dbe5db1f4cb0b128af660304a0f9",
            "124f76d67dbd4066a21b92ae745b23c8",
            "3c1e86dcb6314e89bd57b73678e83bfa",
            "7087be9fce134e82854e3e87ac450313",
            "5c7fe49a2b4a4b3bb70187fd9bab3e79",
            "fcc937840cb446f5aebb014e914a65f8",
            "e22cbfe3755d4a98b76795227c040f98",
            "a3368666f86143a182828c0c6314420d",
            "b44685b0a40b46f48ab2f7cf1e72a752",
            "69d73c0835ed4220beabe41052459278",
            "e8b71b22793a469faef705457c13d6d6",
            "0cf39851f40a4cfa979f3866dfb49c6d",
            "ea23579f1488450fa1cd41afe76eada3",
            "94a95da95c664c3f8cc2b7ae1caa4208",
            "5f763b3a78e74fada60b22757daf4b7a",
            "c497ac7e7bc444b69707d75ed1d57cf5",
            "884b35338b1240b39cbfdb65571a3edb",
            "409c4f309da3461f83b2369183f0a61b",
            "f09f676407534710b814dc1fc996c129",
            "8ae43bc98fbd4bee895a6766e527f4bb"
          ]
        },
        "id": "c7Ya8UF-d5bS",
        "outputId": "62543911-a6d7-4061-8eb7-cae6b5fe95f0"
      },
      "outputs": [],
      "source": [
        "%load_ext autoreload\n",
        "%autoreload 2\n",
        "is_cuda = False"
      ]
    },
    {
      "cell_type": "code",
      "execution_count": null,
      "metadata": {
        "id": "_dRAeGDuL4Gx"
      },
      "outputs": [],
      "source": [
        "import pandas as pd\n",
        "import numpy as np\n",
        "\n",
        "from sklearn.model_selection import train_test_split\n",
        "import gc\n",
        "\n",
        "from polyjuice.generations import ALL_CTRL_CODES\n",
        "\n",
        "import functools\n",
        "from copy import deepcopy\n",
        "\n",
        "from transformers_interpret import SequenceClassificationExplainer\n",
        "import torch\n",
        "from transformers import pipeline"
      ]
    },
    {
      "cell_type": "code",
      "execution_count": null,
      "metadata": {
        "id": "ZVrs_uNCUy43"
      },
      "outputs": [],
      "source": [
        "import warnings\n",
        "warnings.filterwarnings(\"ignore\")"
      ]
    },
    {
      "cell_type": "code",
      "execution_count": null,
      "metadata": {},
      "outputs": [],
      "source": [
        "input_data = \"/content/gdrive/MyDrive/thesis_data/models/nature_sentences_data.csv\"\n",
        "experiment= \"dist_sent_\"\n",
        "output_path = \"/content/gdrive/MyDrive/thesis_data/models/\" + experiment + \"polyjuice.csv\""
      ]
    },
    {
      "cell_type": "markdown",
      "metadata": {},
      "source": [
        "### Load our fine-tuned classification model"
      ]
    },
    {
      "cell_type": "code",
      "execution_count": null,
      "metadata": {},
      "outputs": [],
      "source": [
        "model_name = \"/content/gdrive/MyDrive/thesis_data/models/dist_sent_all/new_distilbert/model_sentences\"\n",
        "tokenizer_model = 'distilbert-base-uncased-finetuned-sst-2-english'\n",
        "\n",
        "# model_name = \"/content/gdrive/MyDrive/thesis_data/models/bert_sent_all/new_bert/model_sentences\"\n",
        "# tokenizer_model = 'microsoft/BiomedNLP-PubMedBERT-base-uncased-abstract-fulltext'"
      ]
    },
    {
      "cell_type": "markdown",
      "metadata": {},
      "source": [
        "#### Use the following code for a DistilBERT model"
      ]
    },
    {
      "cell_type": "code",
      "execution_count": null,
      "metadata": {},
      "outputs": [],
      "source": [
        "# get a model\n",
        "from transformers import DistilBertTokenizer, DistilBertForSequenceClassification\n",
        "\n",
        "tokenizer = DistilBertTokenizer.from_pretrained(tokenizer_model)\n",
        "model = DistilBertForSequenceClassification.from_pretrained(model_name)\n",
        "tokenizer.save_pretrained(model_name)\n",
        "MAX_LENGTH = 1024"
      ]
    },
    {
      "cell_type": "markdown",
      "metadata": {},
      "source": [
        "#### Uncomment the following code to load a BERT model"
      ]
    },
    {
      "cell_type": "code",
      "execution_count": null,
      "metadata": {},
      "outputs": [],
      "source": [
        "# get a model\n",
        "# from transformers import BertTokenizer, BertForSequenceClassification\n",
        "\n",
        "# tokenizer = BertTokenizer.from_pretrained(tokenizer_model)\n",
        "# model = BertForSequenceClassification.from_pretrained(model_name)\n",
        "# tokenizer.save_pretrained(model_name)\n",
        "# MAX_LENGTH = 512"
      ]
    },
    {
      "cell_type": "code",
      "execution_count": null,
      "metadata": {
        "colab": {
          "base_uri": "https://localhost:8080/"
        },
        "id": "q-J_E9lbqdHd",
        "outputId": "d338a5d6-b936-4682-ba93-b219526887c6"
      },
      "outputs": [],
      "source": [
        "pipe = pipeline(\n",
        "    \"text-classification\", model=model, tokenizer=tokenizer, truncation = True, padding=True, max_length = MAX_LENGTH,\n",
        "    framework=\"pt\", device=0 if is_cuda else -1, return_all_scores=True)"
      ]
    },
    {
      "cell_type": "markdown",
      "metadata": {},
      "source": [
        "### Set up input data"
      ]
    },
    {
      "cell_type": "code",
      "execution_count": null,
      "metadata": {
        "colab": {
          "base_uri": "https://localhost:8080/"
        },
        "id": "1i3X3gO3Lnnq",
        "outputId": "c182ef36-d5bd-4f1b-d53b-4904054abbb1"
      },
      "outputs": [],
      "source": [
        "df=pd.read_csv(input_data)\n",
        "\n",
        "X_all = df['TEXT'].values\n",
        "y_all = df['CATEGORY'].values\n",
        "\n",
        "X_train, X_test, y_train, y_test = train_test_split(X_all, y_all, test_size=0.3, random_state=42, stratify=y_all)\n",
        "\n",
        "scient_test = X_test[y_test == 0]\n",
        "scient_list = scient_test.tolist()\n",
        "\n",
        "del(X_all, y_all, X_train, y_train, df, X_test, y_test, scient_test)\n",
        "\n",
        "torch.cuda.empty_cache()\n",
        "gc.collect()\n",
        "print('Allocated:', round(torch.cuda.memory_allocated(0)/1024**3,1), 'GB')\n",
        "print('Cached:   ', round(torch.cuda.memory_cached(0)/1024**3,1), 'GB')"
      ]
    },
    {
      "cell_type": "code",
      "execution_count": null,
      "metadata": {
        "id": "16MGCyuyQbgq"
      },
      "outputs": [],
      "source": [
        "CUDA_LAUNCH_BLOCKING=1"
      ]
    },
    {
      "cell_type": "markdown",
      "metadata": {},
      "source": [
        "### Declare useful functions (as used in the [Polyjuice](https://github.com/tongshuangwu/polyjuice/blob/main/notebooks/Polyjuice%20demo.ipynb)) "
      ]
    },
    {
      "cell_type": "code",
      "execution_count": null,
      "metadata": {
        "id": "LKiVUnVed9qB"
      },
      "outputs": [],
      "source": [
        "# some wrapper for prediction\n",
        "def extract_predict_label(raw_pred):\n",
        "    raw_pred = sorted(raw_pred, key=lambda r: -r[\"score\"])\n",
        "    if raw_pred:\n",
        "        return raw_pred[0][\"label\"]\n",
        "    return None\n",
        "\n",
        "def predict(examples, predictor, batch_size=128):\n",
        "    raw_preds, preds, distribution = [], [], []\n",
        "    with torch.no_grad():\n",
        "        for e in (range(0, len(examples), batch_size)):\n",
        "            with torch.no_grad():\n",
        "                raw_preds.extend(predictor(examples[e:e+batch_size]))\n",
        "    for raw_pred in raw_preds:\n",
        "        raw_pred = raw_pred if type(raw_pred) == list else [raw_pred]\n",
        "        for m in raw_pred:\n",
        "           #m[\"label\"] = int(m[\"label\"].split(\"_\")[1])\n",
        "          if m[\"label\"] == 'NEGATIVE':\n",
        "            m[\"label\"]='0'\n",
        "          else:\n",
        "            m[\"label\"]='1'\n",
        "    return raw_preds\n",
        "\n",
        "def wrap_perturbed_instances(perturb_texts, orig, perturb_idx):\n",
        "    perturbs = []\n",
        "    for a in perturb_texts:\n",
        "        curr_example = deepcopy(list(orig))\n",
        "        curr_example[perturb_idx] = a\n",
        "        perturbs.append(tuple(curr_example))\n",
        "    return perturbs"
      ]
    },
    {
      "cell_type": "markdown",
      "metadata": {},
      "source": [
        "### Function: Get words weights using IG"
      ]
    },
    {
      "cell_type": "code",
      "execution_count": null,
      "metadata": {
        "id": "jU-oxK303m7z"
      },
      "outputs": [],
      "source": [
        "def get_words_weights(text, model, tokenizer):\n",
        "  torch.cuda.empty_cache()\n",
        "  gc.collect()\n",
        "\n",
        "  # gettoken weights using ig\n",
        "  with torch.no_grad():\n",
        "    cls_explainer = SequenceClassificationExplainer(\n",
        "      model,\n",
        "      tokenizer)\n",
        "    word_attributions = cls_explainer(text, internal_batch_size=1)\n",
        "\n",
        "  # find word weights from token weights\n",
        "  weights_df = pd.DataFrame(word_attributions, columns =['Token', 'Weight'])\n",
        "  weights_df['Count'] = 1\n",
        "\n",
        "  last_word_index = 0\n",
        "  for i in range(weights_df.shape[0]):\n",
        "    if weights_df.Token[i].startswith(\"##\"):\n",
        "      weights_df.Token[last_word_index] = weights_df.Token[last_word_index] + weights_df.Token[i].replace(\"##\", \"\")\n",
        "      weights_df.Weight[last_word_index] += weights_df.Weight[i]\n",
        "      weights_df.Count[last_word_index] += 1\n",
        "      weights_df.Token[i] = \"##\"\n",
        "    else:\n",
        "      last_word_index = i\n",
        "\n",
        "  weights_df = weights_df[weights_df.Token != \"##\" ]\n",
        "  weights_df['Avg_Weight'] = weights_df['Weight']/weights_df['Count']\n",
        "\n",
        "  weights_df.reset_index(drop=True, inplace=True)\n",
        "  weights_dict = {}\n",
        "\n",
        "  for i in range(1, (weights_df.shape[0]-1)):\n",
        "    weights_dict[weights_df['Token'][i]] = weights_df['Avg_Weight'][i]\n",
        "\n",
        "  gc.collect()\n",
        "  torch.cuda.empty_cache()\n",
        "\n",
        "  return weights_dict"
      ]
    },
    {
      "cell_type": "code",
      "execution_count": null,
      "metadata": {
        "id": "s1F9AT8BPPPD"
      },
      "outputs": [],
      "source": [
        "TORCH_USE_CUDA_DSA = 'enable'"
      ]
    },
    {
      "cell_type": "markdown",
      "metadata": {},
      "source": [
        "### Get counterfactuals for all the dataset"
      ]
    },
    {
      "cell_type": "code",
      "execution_count": null,
      "metadata": {
        "colab": {
          "base_uri": "https://localhost:8080/"
        },
        "id": "IkmQ6wqKOBd5",
        "outputId": "594ededd-b232-49e3-9ace-8d2885bfabae"
      },
      "outputs": [],
      "source": [
        "results_list = []\n",
        "\n",
        "for i in range(len(scient_list)):\n",
        "  \n",
        "  # save results every 10 instances\n",
        "  if i%10==0:\n",
        "    df = pd.DataFrame(results_list, columns=['Original', 'New', 'new_class', 'changed_features', 'n_pert_texts'])\n",
        "    df.to_csv(output_path)\n",
        "  \n",
        "  print(\"Now checking...\")\n",
        "  print(i)\n",
        "  try:\n",
        "    # make original prediction with our classifier\n",
        "    with torch.no_grad():\n",
        "      orig_pred = predict(scient_list[i], predictor=pipe)[0]\n",
        "\n",
        "    if extract_predict_label(orig_pred)==1:\n",
        "      continue;\n",
        "\n",
        "    # get multiple pertubed texts from polyjuice\n",
        "    with torch.no_grad():\n",
        "      perturb_texts = pj.perturb(\n",
        "        scient_list[i],\n",
        "        ctrl_code=ALL_CTRL_CODES,\n",
        "        num_perturbations=None,\n",
        "        perplex_thred=10\n",
        "        )\n",
        "    perturb_texts = [t.lower() for t in perturb_texts]\n",
        "\n",
        "    pt = len(perturb_texts)\n",
        "    if not perturb_texts:\n",
        "      continue;\n",
        "\n",
        "    # gettoken weights using ig\n",
        "    feature_importance_dict = get_words_weights(scient_list[i], model, tokenizer)\n",
        "\n",
        "    # get probabilities of pertubed texts\n",
        "    orig = [scient_list[i]]\n",
        "    perturb_instances = wrap_perturbed_instances(perturb_texts, orig, perturb_idx=0)\n",
        "\n",
        "    with torch.no_grad():\n",
        "      perturb_preds = predict(perturb_texts, predictor=pipe)\n",
        "\n",
        "    # check class change\n",
        "    surprises = pj.select_surprise_explanations(\n",
        "        orig_text=orig[0].lower(),\n",
        "        perturb_texts=perturb_texts,\n",
        "        orig_pred=orig_pred,\n",
        "        perturb_preds=perturb_preds,\n",
        "        feature_importance_dict=feature_importance_dict\n",
        "        )\n",
        "\n",
        "    if (not surprises) or len(surprises)==0:\n",
        "      min_perturb =  perturb_preds[0][0]['score']\n",
        "      min_idx = 0\n",
        "      for i in range(1, len(perturb_preds)):\n",
        "        temp = perturb_preds[i][0]['score']\n",
        "        if temp < min_perturb:\n",
        "          min_perturb = temp\n",
        "          min_idx = i\n",
        "\n",
        "      label=0 if min_perturb>=0.5 else 1\n",
        "      results_list.append([scient_list[i], perturb_texts[i], label, \"\", pt])\n",
        "    else:\n",
        "      # save results\n",
        "      results_list.append([scient_list[i], surprises[0]['perturb_text'], surprises[0]['pred'], surprises[0]['changed_features'], pt])\n",
        "\n",
        "  except Exception as e:\n",
        "    print(i)\n",
        "    print(\"The error is: \",e)\n",
        "\n",
        "\n",
        "torch.cuda.empty_cache()\n",
        "df = pd.DataFrame(results_list, columns=['Original', 'New', 'new_class', 'changed_features', 'n_pert_texts'])\n",
        "df.to_csv(output_path)"
      ]
    },
    {
      "cell_type": "markdown",
      "metadata": {
        "id": "uhTCu6wc0YYO"
      },
      "source": []
    }
  ],
  "metadata": {
    "accelerator": "GPU",
    "colab": {
      "gpuType": "V100",
      "provenance": []
    },
    "kernelspec": {
      "display_name": "Python 3",
      "name": "python3"
    },
    "language_info": {
      "name": "python"
    },
    "widgets": {
      "application/vnd.jupyter.widget-state+json": {
        "0a5ea01fb8b64a5d9a3c5814fc93caa0": {
          "model_module": "@jupyter-widgets/controls",
          "model_module_version": "1.5.0",
          "model_name": "HBoxModel",
          "state": {
            "_dom_classes": [],
            "_model_module": "@jupyter-widgets/controls",
            "_model_module_version": "1.5.0",
            "_model_name": "HBoxModel",
            "_view_count": null,
            "_view_module": "@jupyter-widgets/controls",
            "_view_module_version": "1.5.0",
            "_view_name": "HBoxView",
            "box_style": "",
            "children": [
              "IPY_MODEL_c3b0d2f9f9ab4ddd86a036db3d8d7a53",
              "IPY_MODEL_b2923d144daa4dadae403059f4382512",
              "IPY_MODEL_3659a0fed9f0466b9004d5c881bd3f10"
            ],
            "layout": "IPY_MODEL_71c61731430b44d787f9e776f42c02c2"
          }
        },
        "0cf39851f40a4cfa979f3866dfb49c6d": {
          "model_module": "@jupyter-widgets/controls",
          "model_module_version": "1.5.0",
          "model_name": "FloatProgressModel",
          "state": {
            "_dom_classes": [],
            "_model_module": "@jupyter-widgets/controls",
            "_model_module_version": "1.5.0",
            "_model_name": "FloatProgressModel",
            "_view_count": null,
            "_view_module": "@jupyter-widgets/controls",
            "_view_module_version": "1.5.0",
            "_view_name": "ProgressView",
            "bar_style": "success",
            "description": "",
            "description_tooltip": null,
            "layout": "IPY_MODEL_884b35338b1240b39cbfdb65571a3edb",
            "max": 629,
            "min": 0,
            "orientation": "horizontal",
            "style": "IPY_MODEL_409c4f309da3461f83b2369183f0a61b",
            "value": 629
          }
        },
        "124f76d67dbd4066a21b92ae745b23c8": {
          "model_module": "@jupyter-widgets/controls",
          "model_module_version": "1.5.0",
          "model_name": "HTMLModel",
          "state": {
            "_dom_classes": [],
            "_model_module": "@jupyter-widgets/controls",
            "_model_module_version": "1.5.0",
            "_model_name": "HTMLModel",
            "_view_count": null,
            "_view_module": "@jupyter-widgets/controls",
            "_view_module_version": "1.5.0",
            "_view_name": "HTMLView",
            "description": "",
            "description_tooltip": null,
            "layout": "IPY_MODEL_a3368666f86143a182828c0c6314420d",
            "placeholder": "​",
            "style": "IPY_MODEL_b44685b0a40b46f48ab2f7cf1e72a752",
            "value": " 232k/232k [00:00&lt;00:00, 4.32MB/s]"
          }
        },
        "2d1531d484554617a9aa62d024c120d4": {
          "model_module": "@jupyter-widgets/controls",
          "model_module_version": "1.5.0",
          "model_name": "ProgressStyleModel",
          "state": {
            "_model_module": "@jupyter-widgets/controls",
            "_model_module_version": "1.5.0",
            "_model_name": "ProgressStyleModel",
            "_view_count": null,
            "_view_module": "@jupyter-widgets/base",
            "_view_module_version": "1.2.0",
            "_view_name": "StyleView",
            "bar_color": null,
            "description_width": ""
          }
        },
        "32e3368d0e8d44929635e96abb801fbc": {
          "model_module": "@jupyter-widgets/controls",
          "model_module_version": "1.5.0",
          "model_name": "HBoxModel",
          "state": {
            "_dom_classes": [],
            "_model_module": "@jupyter-widgets/controls",
            "_model_module_version": "1.5.0",
            "_model_name": "HBoxModel",
            "_view_count": null,
            "_view_module": "@jupyter-widgets/controls",
            "_view_module_version": "1.5.0",
            "_view_name": "HBoxView",
            "box_style": "",
            "children": [
              "IPY_MODEL_4d29f97c7f1b4936ab1580aa683eb89e",
              "IPY_MODEL_9b07dbe5db1f4cb0b128af660304a0f9",
              "IPY_MODEL_124f76d67dbd4066a21b92ae745b23c8"
            ],
            "layout": "IPY_MODEL_3c1e86dcb6314e89bd57b73678e83bfa"
          }
        },
        "3659a0fed9f0466b9004d5c881bd3f10": {
          "model_module": "@jupyter-widgets/controls",
          "model_module_version": "1.5.0",
          "model_name": "HTMLModel",
          "state": {
            "_dom_classes": [],
            "_model_module": "@jupyter-widgets/controls",
            "_model_module_version": "1.5.0",
            "_model_name": "HTMLModel",
            "_view_count": null,
            "_view_module": "@jupyter-widgets/controls",
            "_view_module_version": "1.5.0",
            "_view_name": "HTMLView",
            "description": "",
            "description_tooltip": null,
            "layout": "IPY_MODEL_c483334e3b114db0b1e4356bc1ddb556",
            "placeholder": "​",
            "style": "IPY_MODEL_4e2175beea2b4aba8077b5db7b8d7d85",
            "value": " 48.0/48.0 [00:00&lt;00:00, 1.78kB/s]"
          }
        },
        "3c1e86dcb6314e89bd57b73678e83bfa": {
          "model_module": "@jupyter-widgets/base",
          "model_module_version": "1.2.0",
          "model_name": "LayoutModel",
          "state": {
            "_model_module": "@jupyter-widgets/base",
            "_model_module_version": "1.2.0",
            "_model_name": "LayoutModel",
            "_view_count": null,
            "_view_module": "@jupyter-widgets/base",
            "_view_module_version": "1.2.0",
            "_view_name": "LayoutView",
            "align_content": null,
            "align_items": null,
            "align_self": null,
            "border": null,
            "bottom": null,
            "display": null,
            "flex": null,
            "flex_flow": null,
            "grid_area": null,
            "grid_auto_columns": null,
            "grid_auto_flow": null,
            "grid_auto_rows": null,
            "grid_column": null,
            "grid_gap": null,
            "grid_row": null,
            "grid_template_areas": null,
            "grid_template_columns": null,
            "grid_template_rows": null,
            "height": null,
            "justify_content": null,
            "justify_items": null,
            "left": null,
            "margin": null,
            "max_height": null,
            "max_width": null,
            "min_height": null,
            "min_width": null,
            "object_fit": null,
            "object_position": null,
            "order": null,
            "overflow": null,
            "overflow_x": null,
            "overflow_y": null,
            "padding": null,
            "right": null,
            "top": null,
            "visibility": null,
            "width": null
          }
        },
        "409c4f309da3461f83b2369183f0a61b": {
          "model_module": "@jupyter-widgets/controls",
          "model_module_version": "1.5.0",
          "model_name": "ProgressStyleModel",
          "state": {
            "_model_module": "@jupyter-widgets/controls",
            "_model_module_version": "1.5.0",
            "_model_name": "ProgressStyleModel",
            "_view_count": null,
            "_view_module": "@jupyter-widgets/base",
            "_view_module_version": "1.2.0",
            "_view_name": "StyleView",
            "bar_color": null,
            "description_width": ""
          }
        },
        "41fede9d32fb4ac6bfa0ef99acf96d11": {
          "model_module": "@jupyter-widgets/base",
          "model_module_version": "1.2.0",
          "model_name": "LayoutModel",
          "state": {
            "_model_module": "@jupyter-widgets/base",
            "_model_module_version": "1.2.0",
            "_model_name": "LayoutModel",
            "_view_count": null,
            "_view_module": "@jupyter-widgets/base",
            "_view_module_version": "1.2.0",
            "_view_name": "LayoutView",
            "align_content": null,
            "align_items": null,
            "align_self": null,
            "border": null,
            "bottom": null,
            "display": null,
            "flex": null,
            "flex_flow": null,
            "grid_area": null,
            "grid_auto_columns": null,
            "grid_auto_flow": null,
            "grid_auto_rows": null,
            "grid_column": null,
            "grid_gap": null,
            "grid_row": null,
            "grid_template_areas": null,
            "grid_template_columns": null,
            "grid_template_rows": null,
            "height": null,
            "justify_content": null,
            "justify_items": null,
            "left": null,
            "margin": null,
            "max_height": null,
            "max_width": null,
            "min_height": null,
            "min_width": null,
            "object_fit": null,
            "object_position": null,
            "order": null,
            "overflow": null,
            "overflow_x": null,
            "overflow_y": null,
            "padding": null,
            "right": null,
            "top": null,
            "visibility": null,
            "width": null
          }
        },
        "4d29f97c7f1b4936ab1580aa683eb89e": {
          "model_module": "@jupyter-widgets/controls",
          "model_module_version": "1.5.0",
          "model_name": "HTMLModel",
          "state": {
            "_dom_classes": [],
            "_model_module": "@jupyter-widgets/controls",
            "_model_module_version": "1.5.0",
            "_model_name": "HTMLModel",
            "_view_count": null,
            "_view_module": "@jupyter-widgets/controls",
            "_view_module_version": "1.5.0",
            "_view_name": "HTMLView",
            "description": "",
            "description_tooltip": null,
            "layout": "IPY_MODEL_7087be9fce134e82854e3e87ac450313",
            "placeholder": "​",
            "style": "IPY_MODEL_5c7fe49a2b4a4b3bb70187fd9bab3e79",
            "value": "vocab.txt: 100%"
          }
        },
        "4e2175beea2b4aba8077b5db7b8d7d85": {
          "model_module": "@jupyter-widgets/controls",
          "model_module_version": "1.5.0",
          "model_name": "DescriptionStyleModel",
          "state": {
            "_model_module": "@jupyter-widgets/controls",
            "_model_module_version": "1.5.0",
            "_model_name": "DescriptionStyleModel",
            "_view_count": null,
            "_view_module": "@jupyter-widgets/base",
            "_view_module_version": "1.2.0",
            "_view_name": "StyleView",
            "description_width": ""
          }
        },
        "5c7fe49a2b4a4b3bb70187fd9bab3e79": {
          "model_module": "@jupyter-widgets/controls",
          "model_module_version": "1.5.0",
          "model_name": "DescriptionStyleModel",
          "state": {
            "_model_module": "@jupyter-widgets/controls",
            "_model_module_version": "1.5.0",
            "_model_name": "DescriptionStyleModel",
            "_view_count": null,
            "_view_module": "@jupyter-widgets/base",
            "_view_module_version": "1.2.0",
            "_view_name": "StyleView",
            "description_width": ""
          }
        },
        "5f763b3a78e74fada60b22757daf4b7a": {
          "model_module": "@jupyter-widgets/base",
          "model_module_version": "1.2.0",
          "model_name": "LayoutModel",
          "state": {
            "_model_module": "@jupyter-widgets/base",
            "_model_module_version": "1.2.0",
            "_model_name": "LayoutModel",
            "_view_count": null,
            "_view_module": "@jupyter-widgets/base",
            "_view_module_version": "1.2.0",
            "_view_name": "LayoutView",
            "align_content": null,
            "align_items": null,
            "align_self": null,
            "border": null,
            "bottom": null,
            "display": null,
            "flex": null,
            "flex_flow": null,
            "grid_area": null,
            "grid_auto_columns": null,
            "grid_auto_flow": null,
            "grid_auto_rows": null,
            "grid_column": null,
            "grid_gap": null,
            "grid_row": null,
            "grid_template_areas": null,
            "grid_template_columns": null,
            "grid_template_rows": null,
            "height": null,
            "justify_content": null,
            "justify_items": null,
            "left": null,
            "margin": null,
            "max_height": null,
            "max_width": null,
            "min_height": null,
            "min_width": null,
            "object_fit": null,
            "object_position": null,
            "order": null,
            "overflow": null,
            "overflow_x": null,
            "overflow_y": null,
            "padding": null,
            "right": null,
            "top": null,
            "visibility": null,
            "width": null
          }
        },
        "69d73c0835ed4220beabe41052459278": {
          "model_module": "@jupyter-widgets/controls",
          "model_module_version": "1.5.0",
          "model_name": "HBoxModel",
          "state": {
            "_dom_classes": [],
            "_model_module": "@jupyter-widgets/controls",
            "_model_module_version": "1.5.0",
            "_model_name": "HBoxModel",
            "_view_count": null,
            "_view_module": "@jupyter-widgets/controls",
            "_view_module_version": "1.5.0",
            "_view_name": "HBoxView",
            "box_style": "",
            "children": [
              "IPY_MODEL_e8b71b22793a469faef705457c13d6d6",
              "IPY_MODEL_0cf39851f40a4cfa979f3866dfb49c6d",
              "IPY_MODEL_ea23579f1488450fa1cd41afe76eada3"
            ],
            "layout": "IPY_MODEL_94a95da95c664c3f8cc2b7ae1caa4208"
          }
        },
        "7087be9fce134e82854e3e87ac450313": {
          "model_module": "@jupyter-widgets/base",
          "model_module_version": "1.2.0",
          "model_name": "LayoutModel",
          "state": {
            "_model_module": "@jupyter-widgets/base",
            "_model_module_version": "1.2.0",
            "_model_name": "LayoutModel",
            "_view_count": null,
            "_view_module": "@jupyter-widgets/base",
            "_view_module_version": "1.2.0",
            "_view_name": "LayoutView",
            "align_content": null,
            "align_items": null,
            "align_self": null,
            "border": null,
            "bottom": null,
            "display": null,
            "flex": null,
            "flex_flow": null,
            "grid_area": null,
            "grid_auto_columns": null,
            "grid_auto_flow": null,
            "grid_auto_rows": null,
            "grid_column": null,
            "grid_gap": null,
            "grid_row": null,
            "grid_template_areas": null,
            "grid_template_columns": null,
            "grid_template_rows": null,
            "height": null,
            "justify_content": null,
            "justify_items": null,
            "left": null,
            "margin": null,
            "max_height": null,
            "max_width": null,
            "min_height": null,
            "min_width": null,
            "object_fit": null,
            "object_position": null,
            "order": null,
            "overflow": null,
            "overflow_x": null,
            "overflow_y": null,
            "padding": null,
            "right": null,
            "top": null,
            "visibility": null,
            "width": null
          }
        },
        "71c61731430b44d787f9e776f42c02c2": {
          "model_module": "@jupyter-widgets/base",
          "model_module_version": "1.2.0",
          "model_name": "LayoutModel",
          "state": {
            "_model_module": "@jupyter-widgets/base",
            "_model_module_version": "1.2.0",
            "_model_name": "LayoutModel",
            "_view_count": null,
            "_view_module": "@jupyter-widgets/base",
            "_view_module_version": "1.2.0",
            "_view_name": "LayoutView",
            "align_content": null,
            "align_items": null,
            "align_self": null,
            "border": null,
            "bottom": null,
            "display": null,
            "flex": null,
            "flex_flow": null,
            "grid_area": null,
            "grid_auto_columns": null,
            "grid_auto_flow": null,
            "grid_auto_rows": null,
            "grid_column": null,
            "grid_gap": null,
            "grid_row": null,
            "grid_template_areas": null,
            "grid_template_columns": null,
            "grid_template_rows": null,
            "height": null,
            "justify_content": null,
            "justify_items": null,
            "left": null,
            "margin": null,
            "max_height": null,
            "max_width": null,
            "min_height": null,
            "min_width": null,
            "object_fit": null,
            "object_position": null,
            "order": null,
            "overflow": null,
            "overflow_x": null,
            "overflow_y": null,
            "padding": null,
            "right": null,
            "top": null,
            "visibility": null,
            "width": null
          }
        },
        "884b35338b1240b39cbfdb65571a3edb": {
          "model_module": "@jupyter-widgets/base",
          "model_module_version": "1.2.0",
          "model_name": "LayoutModel",
          "state": {
            "_model_module": "@jupyter-widgets/base",
            "_model_module_version": "1.2.0",
            "_model_name": "LayoutModel",
            "_view_count": null,
            "_view_module": "@jupyter-widgets/base",
            "_view_module_version": "1.2.0",
            "_view_name": "LayoutView",
            "align_content": null,
            "align_items": null,
            "align_self": null,
            "border": null,
            "bottom": null,
            "display": null,
            "flex": null,
            "flex_flow": null,
            "grid_area": null,
            "grid_auto_columns": null,
            "grid_auto_flow": null,
            "grid_auto_rows": null,
            "grid_column": null,
            "grid_gap": null,
            "grid_row": null,
            "grid_template_areas": null,
            "grid_template_columns": null,
            "grid_template_rows": null,
            "height": null,
            "justify_content": null,
            "justify_items": null,
            "left": null,
            "margin": null,
            "max_height": null,
            "max_width": null,
            "min_height": null,
            "min_width": null,
            "object_fit": null,
            "object_position": null,
            "order": null,
            "overflow": null,
            "overflow_x": null,
            "overflow_y": null,
            "padding": null,
            "right": null,
            "top": null,
            "visibility": null,
            "width": null
          }
        },
        "8ae43bc98fbd4bee895a6766e527f4bb": {
          "model_module": "@jupyter-widgets/controls",
          "model_module_version": "1.5.0",
          "model_name": "DescriptionStyleModel",
          "state": {
            "_model_module": "@jupyter-widgets/controls",
            "_model_module_version": "1.5.0",
            "_model_name": "DescriptionStyleModel",
            "_view_count": null,
            "_view_module": "@jupyter-widgets/base",
            "_view_module_version": "1.2.0",
            "_view_name": "StyleView",
            "description_width": ""
          }
        },
        "94a95da95c664c3f8cc2b7ae1caa4208": {
          "model_module": "@jupyter-widgets/base",
          "model_module_version": "1.2.0",
          "model_name": "LayoutModel",
          "state": {
            "_model_module": "@jupyter-widgets/base",
            "_model_module_version": "1.2.0",
            "_model_name": "LayoutModel",
            "_view_count": null,
            "_view_module": "@jupyter-widgets/base",
            "_view_module_version": "1.2.0",
            "_view_name": "LayoutView",
            "align_content": null,
            "align_items": null,
            "align_self": null,
            "border": null,
            "bottom": null,
            "display": null,
            "flex": null,
            "flex_flow": null,
            "grid_area": null,
            "grid_auto_columns": null,
            "grid_auto_flow": null,
            "grid_auto_rows": null,
            "grid_column": null,
            "grid_gap": null,
            "grid_row": null,
            "grid_template_areas": null,
            "grid_template_columns": null,
            "grid_template_rows": null,
            "height": null,
            "justify_content": null,
            "justify_items": null,
            "left": null,
            "margin": null,
            "max_height": null,
            "max_width": null,
            "min_height": null,
            "min_width": null,
            "object_fit": null,
            "object_position": null,
            "order": null,
            "overflow": null,
            "overflow_x": null,
            "overflow_y": null,
            "padding": null,
            "right": null,
            "top": null,
            "visibility": null,
            "width": null
          }
        },
        "98458e8de59445e789b839ca07cea6c0": {
          "model_module": "@jupyter-widgets/controls",
          "model_module_version": "1.5.0",
          "model_name": "DescriptionStyleModel",
          "state": {
            "_model_module": "@jupyter-widgets/controls",
            "_model_module_version": "1.5.0",
            "_model_name": "DescriptionStyleModel",
            "_view_count": null,
            "_view_module": "@jupyter-widgets/base",
            "_view_module_version": "1.2.0",
            "_view_name": "StyleView",
            "description_width": ""
          }
        },
        "9b07dbe5db1f4cb0b128af660304a0f9": {
          "model_module": "@jupyter-widgets/controls",
          "model_module_version": "1.5.0",
          "model_name": "FloatProgressModel",
          "state": {
            "_dom_classes": [],
            "_model_module": "@jupyter-widgets/controls",
            "_model_module_version": "1.5.0",
            "_model_name": "FloatProgressModel",
            "_view_count": null,
            "_view_module": "@jupyter-widgets/controls",
            "_view_module_version": "1.5.0",
            "_view_name": "ProgressView",
            "bar_style": "success",
            "description": "",
            "description_tooltip": null,
            "layout": "IPY_MODEL_fcc937840cb446f5aebb014e914a65f8",
            "max": 231508,
            "min": 0,
            "orientation": "horizontal",
            "style": "IPY_MODEL_e22cbfe3755d4a98b76795227c040f98",
            "value": 231508
          }
        },
        "a3368666f86143a182828c0c6314420d": {
          "model_module": "@jupyter-widgets/base",
          "model_module_version": "1.2.0",
          "model_name": "LayoutModel",
          "state": {
            "_model_module": "@jupyter-widgets/base",
            "_model_module_version": "1.2.0",
            "_model_name": "LayoutModel",
            "_view_count": null,
            "_view_module": "@jupyter-widgets/base",
            "_view_module_version": "1.2.0",
            "_view_name": "LayoutView",
            "align_content": null,
            "align_items": null,
            "align_self": null,
            "border": null,
            "bottom": null,
            "display": null,
            "flex": null,
            "flex_flow": null,
            "grid_area": null,
            "grid_auto_columns": null,
            "grid_auto_flow": null,
            "grid_auto_rows": null,
            "grid_column": null,
            "grid_gap": null,
            "grid_row": null,
            "grid_template_areas": null,
            "grid_template_columns": null,
            "grid_template_rows": null,
            "height": null,
            "justify_content": null,
            "justify_items": null,
            "left": null,
            "margin": null,
            "max_height": null,
            "max_width": null,
            "min_height": null,
            "min_width": null,
            "object_fit": null,
            "object_position": null,
            "order": null,
            "overflow": null,
            "overflow_x": null,
            "overflow_y": null,
            "padding": null,
            "right": null,
            "top": null,
            "visibility": null,
            "width": null
          }
        },
        "b2923d144daa4dadae403059f4382512": {
          "model_module": "@jupyter-widgets/controls",
          "model_module_version": "1.5.0",
          "model_name": "FloatProgressModel",
          "state": {
            "_dom_classes": [],
            "_model_module": "@jupyter-widgets/controls",
            "_model_module_version": "1.5.0",
            "_model_name": "FloatProgressModel",
            "_view_count": null,
            "_view_module": "@jupyter-widgets/controls",
            "_view_module_version": "1.5.0",
            "_view_name": "ProgressView",
            "bar_style": "success",
            "description": "",
            "description_tooltip": null,
            "layout": "IPY_MODEL_41fede9d32fb4ac6bfa0ef99acf96d11",
            "max": 48,
            "min": 0,
            "orientation": "horizontal",
            "style": "IPY_MODEL_2d1531d484554617a9aa62d024c120d4",
            "value": 48
          }
        },
        "b44685b0a40b46f48ab2f7cf1e72a752": {
          "model_module": "@jupyter-widgets/controls",
          "model_module_version": "1.5.0",
          "model_name": "DescriptionStyleModel",
          "state": {
            "_model_module": "@jupyter-widgets/controls",
            "_model_module_version": "1.5.0",
            "_model_name": "DescriptionStyleModel",
            "_view_count": null,
            "_view_module": "@jupyter-widgets/base",
            "_view_module_version": "1.2.0",
            "_view_name": "StyleView",
            "description_width": ""
          }
        },
        "b71269ef026a4cab94f1347197025849": {
          "model_module": "@jupyter-widgets/base",
          "model_module_version": "1.2.0",
          "model_name": "LayoutModel",
          "state": {
            "_model_module": "@jupyter-widgets/base",
            "_model_module_version": "1.2.0",
            "_model_name": "LayoutModel",
            "_view_count": null,
            "_view_module": "@jupyter-widgets/base",
            "_view_module_version": "1.2.0",
            "_view_name": "LayoutView",
            "align_content": null,
            "align_items": null,
            "align_self": null,
            "border": null,
            "bottom": null,
            "display": null,
            "flex": null,
            "flex_flow": null,
            "grid_area": null,
            "grid_auto_columns": null,
            "grid_auto_flow": null,
            "grid_auto_rows": null,
            "grid_column": null,
            "grid_gap": null,
            "grid_row": null,
            "grid_template_areas": null,
            "grid_template_columns": null,
            "grid_template_rows": null,
            "height": null,
            "justify_content": null,
            "justify_items": null,
            "left": null,
            "margin": null,
            "max_height": null,
            "max_width": null,
            "min_height": null,
            "min_width": null,
            "object_fit": null,
            "object_position": null,
            "order": null,
            "overflow": null,
            "overflow_x": null,
            "overflow_y": null,
            "padding": null,
            "right": null,
            "top": null,
            "visibility": null,
            "width": null
          }
        },
        "c3b0d2f9f9ab4ddd86a036db3d8d7a53": {
          "model_module": "@jupyter-widgets/controls",
          "model_module_version": "1.5.0",
          "model_name": "HTMLModel",
          "state": {
            "_dom_classes": [],
            "_model_module": "@jupyter-widgets/controls",
            "_model_module_version": "1.5.0",
            "_model_name": "HTMLModel",
            "_view_count": null,
            "_view_module": "@jupyter-widgets/controls",
            "_view_module_version": "1.5.0",
            "_view_name": "HTMLView",
            "description": "",
            "description_tooltip": null,
            "layout": "IPY_MODEL_b71269ef026a4cab94f1347197025849",
            "placeholder": "​",
            "style": "IPY_MODEL_98458e8de59445e789b839ca07cea6c0",
            "value": "tokenizer_config.json: 100%"
          }
        },
        "c483334e3b114db0b1e4356bc1ddb556": {
          "model_module": "@jupyter-widgets/base",
          "model_module_version": "1.2.0",
          "model_name": "LayoutModel",
          "state": {
            "_model_module": "@jupyter-widgets/base",
            "_model_module_version": "1.2.0",
            "_model_name": "LayoutModel",
            "_view_count": null,
            "_view_module": "@jupyter-widgets/base",
            "_view_module_version": "1.2.0",
            "_view_name": "LayoutView",
            "align_content": null,
            "align_items": null,
            "align_self": null,
            "border": null,
            "bottom": null,
            "display": null,
            "flex": null,
            "flex_flow": null,
            "grid_area": null,
            "grid_auto_columns": null,
            "grid_auto_flow": null,
            "grid_auto_rows": null,
            "grid_column": null,
            "grid_gap": null,
            "grid_row": null,
            "grid_template_areas": null,
            "grid_template_columns": null,
            "grid_template_rows": null,
            "height": null,
            "justify_content": null,
            "justify_items": null,
            "left": null,
            "margin": null,
            "max_height": null,
            "max_width": null,
            "min_height": null,
            "min_width": null,
            "object_fit": null,
            "object_position": null,
            "order": null,
            "overflow": null,
            "overflow_x": null,
            "overflow_y": null,
            "padding": null,
            "right": null,
            "top": null,
            "visibility": null,
            "width": null
          }
        },
        "c497ac7e7bc444b69707d75ed1d57cf5": {
          "model_module": "@jupyter-widgets/controls",
          "model_module_version": "1.5.0",
          "model_name": "DescriptionStyleModel",
          "state": {
            "_model_module": "@jupyter-widgets/controls",
            "_model_module_version": "1.5.0",
            "_model_name": "DescriptionStyleModel",
            "_view_count": null,
            "_view_module": "@jupyter-widgets/base",
            "_view_module_version": "1.2.0",
            "_view_name": "StyleView",
            "description_width": ""
          }
        },
        "e22cbfe3755d4a98b76795227c040f98": {
          "model_module": "@jupyter-widgets/controls",
          "model_module_version": "1.5.0",
          "model_name": "ProgressStyleModel",
          "state": {
            "_model_module": "@jupyter-widgets/controls",
            "_model_module_version": "1.5.0",
            "_model_name": "ProgressStyleModel",
            "_view_count": null,
            "_view_module": "@jupyter-widgets/base",
            "_view_module_version": "1.2.0",
            "_view_name": "StyleView",
            "bar_color": null,
            "description_width": ""
          }
        },
        "e8b71b22793a469faef705457c13d6d6": {
          "model_module": "@jupyter-widgets/controls",
          "model_module_version": "1.5.0",
          "model_name": "HTMLModel",
          "state": {
            "_dom_classes": [],
            "_model_module": "@jupyter-widgets/controls",
            "_model_module_version": "1.5.0",
            "_model_name": "HTMLModel",
            "_view_count": null,
            "_view_module": "@jupyter-widgets/controls",
            "_view_module_version": "1.5.0",
            "_view_name": "HTMLView",
            "description": "",
            "description_tooltip": null,
            "layout": "IPY_MODEL_5f763b3a78e74fada60b22757daf4b7a",
            "placeholder": "​",
            "style": "IPY_MODEL_c497ac7e7bc444b69707d75ed1d57cf5",
            "value": "config.json: 100%"
          }
        },
        "ea23579f1488450fa1cd41afe76eada3": {
          "model_module": "@jupyter-widgets/controls",
          "model_module_version": "1.5.0",
          "model_name": "HTMLModel",
          "state": {
            "_dom_classes": [],
            "_model_module": "@jupyter-widgets/controls",
            "_model_module_version": "1.5.0",
            "_model_name": "HTMLModel",
            "_view_count": null,
            "_view_module": "@jupyter-widgets/controls",
            "_view_module_version": "1.5.0",
            "_view_name": "HTMLView",
            "description": "",
            "description_tooltip": null,
            "layout": "IPY_MODEL_f09f676407534710b814dc1fc996c129",
            "placeholder": "​",
            "style": "IPY_MODEL_8ae43bc98fbd4bee895a6766e527f4bb",
            "value": " 629/629 [00:00&lt;00:00, 42.3kB/s]"
          }
        },
        "f09f676407534710b814dc1fc996c129": {
          "model_module": "@jupyter-widgets/base",
          "model_module_version": "1.2.0",
          "model_name": "LayoutModel",
          "state": {
            "_model_module": "@jupyter-widgets/base",
            "_model_module_version": "1.2.0",
            "_model_name": "LayoutModel",
            "_view_count": null,
            "_view_module": "@jupyter-widgets/base",
            "_view_module_version": "1.2.0",
            "_view_name": "LayoutView",
            "align_content": null,
            "align_items": null,
            "align_self": null,
            "border": null,
            "bottom": null,
            "display": null,
            "flex": null,
            "flex_flow": null,
            "grid_area": null,
            "grid_auto_columns": null,
            "grid_auto_flow": null,
            "grid_auto_rows": null,
            "grid_column": null,
            "grid_gap": null,
            "grid_row": null,
            "grid_template_areas": null,
            "grid_template_columns": null,
            "grid_template_rows": null,
            "height": null,
            "justify_content": null,
            "justify_items": null,
            "left": null,
            "margin": null,
            "max_height": null,
            "max_width": null,
            "min_height": null,
            "min_width": null,
            "object_fit": null,
            "object_position": null,
            "order": null,
            "overflow": null,
            "overflow_x": null,
            "overflow_y": null,
            "padding": null,
            "right": null,
            "top": null,
            "visibility": null,
            "width": null
          }
        },
        "fcc937840cb446f5aebb014e914a65f8": {
          "model_module": "@jupyter-widgets/base",
          "model_module_version": "1.2.0",
          "model_name": "LayoutModel",
          "state": {
            "_model_module": "@jupyter-widgets/base",
            "_model_module_version": "1.2.0",
            "_model_name": "LayoutModel",
            "_view_count": null,
            "_view_module": "@jupyter-widgets/base",
            "_view_module_version": "1.2.0",
            "_view_name": "LayoutView",
            "align_content": null,
            "align_items": null,
            "align_self": null,
            "border": null,
            "bottom": null,
            "display": null,
            "flex": null,
            "flex_flow": null,
            "grid_area": null,
            "grid_auto_columns": null,
            "grid_auto_flow": null,
            "grid_auto_rows": null,
            "grid_column": null,
            "grid_gap": null,
            "grid_row": null,
            "grid_template_areas": null,
            "grid_template_columns": null,
            "grid_template_rows": null,
            "height": null,
            "justify_content": null,
            "justify_items": null,
            "left": null,
            "margin": null,
            "max_height": null,
            "max_width": null,
            "min_height": null,
            "min_width": null,
            "object_fit": null,
            "object_position": null,
            "order": null,
            "overflow": null,
            "overflow_x": null,
            "overflow_y": null,
            "padding": null,
            "right": null,
            "top": null,
            "visibility": null,
            "width": null
          }
        }
      }
    }
  },
  "nbformat": 4,
  "nbformat_minor": 0
}
